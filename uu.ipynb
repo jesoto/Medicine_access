{
 "cells": [
  {
   "cell_type": "code",
   "execution_count": 16,
   "metadata": {},
   "outputs": [],
   "source": [
    "# Librerías\n",
    "from selenium import webdriver\n",
    "from selenium.webdriver.support.ui import WebDriverWait\n",
    "from selenium.webdriver.support import expected_conditions as EC\n",
    "from selenium.webdriver.common.by import By\n",
    "import time\n",
    "import pandas as pd"
   ]
  },
  {
   "cell_type": "code",
   "execution_count": 17,
   "metadata": {},
   "outputs": [],
   "source": [
    "options =  webdriver.ChromeOptions()\n",
    "options.add_argument('--start-maximized')\n",
    "options.add_argument('--disable-extensions')\n"
   ]
  },
  {
   "cell_type": "code",
   "execution_count": 18,
   "metadata": {},
   "outputs": [],
   "source": [
    "driver_path = \"C:/Users/B40235/Downloads/chromedriver_win32/chromedriver.exe\""
   ]
  },
  {
   "cell_type": "code",
   "execution_count": 26,
   "metadata": {},
   "outputs": [
    {
     "name": "stderr",
     "output_type": "stream",
     "text": [
      "C:\\Users\\B40235\\AppData\\Local\\Temp\\ipykernel_19704\\3112495783.py:1: DeprecationWarning: executable_path has been deprecated, please pass in a Service object\n",
      "  driver = webdriver.Chrome(driver_path, chrome_options=options)\n",
      "C:\\Users\\B40235\\AppData\\Local\\Temp\\ipykernel_19704\\3112495783.py:1: DeprecationWarning: use options instead of chrome_options\n",
      "  driver = webdriver.Chrome(driver_path, chrome_options=options)\n"
     ]
    },
    {
     "ename": "ElementClickInterceptedException",
     "evalue": "Message: element click intercepted: Element <button class=\"btn btn-inverse btn-sm btn-s1 margin-gap btn-block\" type=\"button\">...</button> is not clickable at point (972, 406). Other element would receive the click: <ngb-modal-window role=\"dialog\" tabindex=\"-1\" class=\"modal fade show d-block\" aria-modal=\"true\">...</ngb-modal-window>\n  (Session info: chrome=112.0.5615.139)\nStacktrace:\nBacktrace:\n\tGetHandleVerifier [0x009ADCE3+50899]\n\t(No symbol) [0x0093E111]\n\t(No symbol) [0x00845588]\n\t(No symbol) [0x00875A7A]\n\t(No symbol) [0x00874336]\n\t(No symbol) [0x0087267B]\n\t(No symbol) [0x00871797]\n\t(No symbol) [0x008694A5]\n\t(No symbol) [0x0088B8FC]\n\t(No symbol) [0x00868EC6]\n\t(No symbol) [0x0088BC54]\n\t(No symbol) [0x0089E01C]\n\t(No symbol) [0x0088B6F6]\n\t(No symbol) [0x00867708]\n\t(No symbol) [0x0086886D]\n\tGetHandleVerifier [0x00C13EAE+2566302]\n\tGetHandleVerifier [0x00C492B1+2784417]\n\tGetHandleVerifier [0x00C4327C+2759788]\n\tGetHandleVerifier [0x00A45740+672048]\n\t(No symbol) [0x00948872]\n\t(No symbol) [0x009441C8]\n\t(No symbol) [0x009442AB]\n\t(No symbol) [0x009371B7]\n\tBaseThreadInitThunk [0x76FC00F9+25]\n\tRtlGetAppContainerNamedObjectPath [0x77107BBE+286]\n\tRtlGetAppContainerNamedObjectPath [0x77107B8E+238]\n",
     "output_type": "error",
     "traceback": [
      "\u001b[1;31m---------------------------------------------------------------------------\u001b[0m",
      "\u001b[1;31mElementClickInterceptedException\u001b[0m          Traceback (most recent call last)",
      "Cell \u001b[1;32mIn[26], line 15\u001b[0m\n\u001b[0;32m      8\u001b[0m \u001b[39m# Inicializamos el navegador\u001b[39;00m\n\u001b[0;32m      9\u001b[0m driver\u001b[39m.\u001b[39mget(\u001b[39m'\u001b[39m\u001b[39mhttps://opm-digemid.minsa.gob.pe/#/consulta-producto\u001b[39m\u001b[39m'\u001b[39m)\n\u001b[0;32m     13\u001b[0m WebDriverWait(driver, \u001b[39m5\u001b[39;49m)\\\n\u001b[0;32m     14\u001b[0m     \u001b[39m.\u001b[39;49muntil(EC\u001b[39m.\u001b[39;49melement_to_be_clickable((By\u001b[39m.\u001b[39;49mCSS_SELECTOR,\n\u001b[1;32m---> 15\u001b[0m                                       \u001b[39m'\u001b[39;49m\u001b[39mbutton.btn btn-inverse btn-sm btn-s1 margin-gap\u001b[39;49m\u001b[39m'\u001b[39;49m\u001b[39m.\u001b[39;49mreplace(\u001b[39m'\u001b[39;49m\u001b[39m \u001b[39;49m\u001b[39m'\u001b[39;49m, \u001b[39m'\u001b[39;49m\u001b[39m.\u001b[39;49m\u001b[39m'\u001b[39;49m))))\u001b[39m.\u001b[39;49mclick()\n",
      "File \u001b[1;32mc:\\Users\\B40235\\AppData\\Local\\Programs\\Python\\Python311\\Lib\\site-packages\\selenium\\webdriver\\remote\\webelement.py:94\u001b[0m, in \u001b[0;36mWebElement.click\u001b[1;34m(self)\u001b[0m\n\u001b[0;32m     92\u001b[0m \u001b[39mdef\u001b[39;00m \u001b[39mclick\u001b[39m(\u001b[39mself\u001b[39m) \u001b[39m-\u001b[39m\u001b[39m>\u001b[39m \u001b[39mNone\u001b[39;00m:\n\u001b[0;32m     93\u001b[0m \u001b[39m    \u001b[39m\u001b[39m\"\"\"Clicks the element.\"\"\"\u001b[39;00m\n\u001b[1;32m---> 94\u001b[0m     \u001b[39mself\u001b[39;49m\u001b[39m.\u001b[39;49m_execute(Command\u001b[39m.\u001b[39;49mCLICK_ELEMENT)\n",
      "File \u001b[1;32mc:\\Users\\B40235\\AppData\\Local\\Programs\\Python\\Python311\\Lib\\site-packages\\selenium\\webdriver\\remote\\webelement.py:403\u001b[0m, in \u001b[0;36mWebElement._execute\u001b[1;34m(self, command, params)\u001b[0m\n\u001b[0;32m    401\u001b[0m     params \u001b[39m=\u001b[39m {}\n\u001b[0;32m    402\u001b[0m params[\u001b[39m\"\u001b[39m\u001b[39mid\u001b[39m\u001b[39m\"\u001b[39m] \u001b[39m=\u001b[39m \u001b[39mself\u001b[39m\u001b[39m.\u001b[39m_id\n\u001b[1;32m--> 403\u001b[0m \u001b[39mreturn\u001b[39;00m \u001b[39mself\u001b[39;49m\u001b[39m.\u001b[39;49m_parent\u001b[39m.\u001b[39;49mexecute(command, params)\n",
      "File \u001b[1;32mc:\\Users\\B40235\\AppData\\Local\\Programs\\Python\\Python311\\Lib\\site-packages\\selenium\\webdriver\\remote\\webdriver.py:440\u001b[0m, in \u001b[0;36mWebDriver.execute\u001b[1;34m(self, driver_command, params)\u001b[0m\n\u001b[0;32m    438\u001b[0m response \u001b[39m=\u001b[39m \u001b[39mself\u001b[39m\u001b[39m.\u001b[39mcommand_executor\u001b[39m.\u001b[39mexecute(driver_command, params)\n\u001b[0;32m    439\u001b[0m \u001b[39mif\u001b[39;00m response:\n\u001b[1;32m--> 440\u001b[0m     \u001b[39mself\u001b[39;49m\u001b[39m.\u001b[39;49merror_handler\u001b[39m.\u001b[39;49mcheck_response(response)\n\u001b[0;32m    441\u001b[0m     response[\u001b[39m\"\u001b[39m\u001b[39mvalue\u001b[39m\u001b[39m\"\u001b[39m] \u001b[39m=\u001b[39m \u001b[39mself\u001b[39m\u001b[39m.\u001b[39m_unwrap_value(response\u001b[39m.\u001b[39mget(\u001b[39m\"\u001b[39m\u001b[39mvalue\u001b[39m\u001b[39m\"\u001b[39m, \u001b[39mNone\u001b[39;00m))\n\u001b[0;32m    442\u001b[0m     \u001b[39mreturn\u001b[39;00m response\n",
      "File \u001b[1;32mc:\\Users\\B40235\\AppData\\Local\\Programs\\Python\\Python311\\Lib\\site-packages\\selenium\\webdriver\\remote\\errorhandler.py:245\u001b[0m, in \u001b[0;36mErrorHandler.check_response\u001b[1;34m(self, response)\u001b[0m\n\u001b[0;32m    243\u001b[0m         alert_text \u001b[39m=\u001b[39m value[\u001b[39m\"\u001b[39m\u001b[39malert\u001b[39m\u001b[39m\"\u001b[39m]\u001b[39m.\u001b[39mget(\u001b[39m\"\u001b[39m\u001b[39mtext\u001b[39m\u001b[39m\"\u001b[39m)\n\u001b[0;32m    244\u001b[0m     \u001b[39mraise\u001b[39;00m exception_class(message, screen, stacktrace, alert_text)  \u001b[39m# type: ignore[call-arg]  # mypy is not smart enough here\u001b[39;00m\n\u001b[1;32m--> 245\u001b[0m \u001b[39mraise\u001b[39;00m exception_class(message, screen, stacktrace)\n",
      "\u001b[1;31mElementClickInterceptedException\u001b[0m: Message: element click intercepted: Element <button class=\"btn btn-inverse btn-sm btn-s1 margin-gap btn-block\" type=\"button\">...</button> is not clickable at point (972, 406). Other element would receive the click: <ngb-modal-window role=\"dialog\" tabindex=\"-1\" class=\"modal fade show d-block\" aria-modal=\"true\">...</ngb-modal-window>\n  (Session info: chrome=112.0.5615.139)\nStacktrace:\nBacktrace:\n\tGetHandleVerifier [0x009ADCE3+50899]\n\t(No symbol) [0x0093E111]\n\t(No symbol) [0x00845588]\n\t(No symbol) [0x00875A7A]\n\t(No symbol) [0x00874336]\n\t(No symbol) [0x0087267B]\n\t(No symbol) [0x00871797]\n\t(No symbol) [0x008694A5]\n\t(No symbol) [0x0088B8FC]\n\t(No symbol) [0x00868EC6]\n\t(No symbol) [0x0088BC54]\n\t(No symbol) [0x0089E01C]\n\t(No symbol) [0x0088B6F6]\n\t(No symbol) [0x00867708]\n\t(No symbol) [0x0086886D]\n\tGetHandleVerifier [0x00C13EAE+2566302]\n\tGetHandleVerifier [0x00C492B1+2784417]\n\tGetHandleVerifier [0x00C4327C+2759788]\n\tGetHandleVerifier [0x00A45740+672048]\n\t(No symbol) [0x00948872]\n\t(No symbol) [0x009441C8]\n\t(No symbol) [0x009442AB]\n\t(No symbol) [0x009371B7]\n\tBaseThreadInitThunk [0x76FC00F9+25]\n\tRtlGetAppContainerNamedObjectPath [0x77107BBE+286]\n\tRtlGetAppContainerNamedObjectPath [0x77107B8E+238]\n"
     ]
    }
   ],
   "source": [
    "driver = webdriver.Chrome(driver_path, chrome_options=options)\n",
    "\n",
    "# Iniciarla en la pantalla 2\n",
    "driver.set_window_position(2000, 0)\n",
    "driver.maximize_window()\n",
    "time.sleep(1)\n",
    "\n",
    "# Inicializamos el navegador\n",
    "driver.get('https://opm-digemid.minsa.gob.pe/#/consulta-producto')\n",
    "\n",
    "\n",
    "\n",
    "WebDriverWait(driver, 5)\\\n",
    "    .until(EC.element_to_be_clickable((By.CSS_SELECTOR,\n",
    "                                      'button.btn btn-inverse btn-sm btn-s1 margin-gap'.replace(' ', '.')))).click()\n",
    "\n"
   ]
  },
  {
   "cell_type": "code",
   "execution_count": null,
   "metadata": {},
   "outputs": [],
   "source": [
    "btn btn-inverse btn-sm btn-s1 margin-gap\n"
   ]
  }
 ],
 "metadata": {
  "kernelspec": {
   "display_name": "Python 3",
   "language": "python",
   "name": "python3"
  },
  "language_info": {
   "codemirror_mode": {
    "name": "ipython",
    "version": 3
   },
   "file_extension": ".py",
   "mimetype": "text/x-python",
   "name": "python",
   "nbconvert_exporter": "python",
   "pygments_lexer": "ipython3",
   "version": "3.11.3"
  },
  "orig_nbformat": 4
 },
 "nbformat": 4,
 "nbformat_minor": 2
}
