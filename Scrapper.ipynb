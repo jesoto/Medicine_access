{
 "cells": [
  {
   "cell_type": "code",
   "execution_count": 11,
   "metadata": {},
   "outputs": [],
   "source": [
    "# Librerías\n",
    "from selenium import webdriver\n",
    "from selenium.webdriver.support.ui import WebDriverWait\n",
    "from selenium.webdriver.support import expected_conditions as EC\n",
    "from selenium.webdriver.common.by import By\n",
    "import time\n",
    "import pandas as pd"
   ]
  },
  {
   "cell_type": "code",
   "execution_count": 12,
   "metadata": {},
   "outputs": [],
   "source": [
    "options =  webdriver.ChromeOptions()\n",
    "options.add_argument('--start-maximized')\n",
    "options.add_argument('--disable-extensions')\n"
   ]
  },
  {
   "cell_type": "code",
   "execution_count": 13,
   "metadata": {},
   "outputs": [],
   "source": [
    "driver_path = \"chromedriver.exe\""
   ]
  },
  {
   "cell_type": "code",
   "execution_count": 19,
   "metadata": {},
   "outputs": [
    {
     "name": "stderr",
     "output_type": "stream",
     "text": [
      "C:\\Users\\PC\\AppData\\Local\\Temp\\ipykernel_4956\\1886564558.py:1: DeprecationWarning: executable_path has been deprecated, please pass in a Service object\n",
      "  driver = webdriver.Chrome(driver_path, options=options)\n"
     ]
    }
   ],
   "source": [
    "driver = webdriver.Chrome(driver_path, options=options)\n",
    "\n",
    "# Iniciarla en la pantalla 2\n",
    "driver.set_window_position(2000, 0)\n",
    "driver.maximize_window()\n",
    "time.sleep(1)\n",
    "\n",
    "# Inicializamos el navegador\n",
    "driver.get('https://opm-digemid.minsa.gob.pe/#/consulta-producto')\n",
    "\n",
    "button = driver.find_element(By.XPATH, \"//button[contains(text(), 'Cerrar')]\")  # Reemplaza 'Texto del botón' con el texto real del botón\n",
    "button.click()\n",
    "time.sleep(3)\n",
    "button = driver.find_element(By.XPATH, \"//button[contains(text(), 'Cerrar')]\") \n",
    "button.click()\n",
    "#\n",
    "\n",
    "input_field = driver.find_element(By.XPATH, \"//input[@class='ng-untouched ng-pristine ng-valid']\") \n",
    "input_field.send_keys(\"Texto que deseas escribir\")\n"
   ]
  }
 ],
 "metadata": {
  "kernelspec": {
   "display_name": "Python 3",
   "language": "python",
   "name": "python3"
  },
  "language_info": {
   "codemirror_mode": {
    "name": "ipython",
    "version": 3
   },
   "file_extension": ".py",
   "mimetype": "text/x-python",
   "name": "python",
   "nbconvert_exporter": "python",
   "pygments_lexer": "ipython3",
   "version": "3.9.16"
  },
  "orig_nbformat": 4
 },
 "nbformat": 4,
 "nbformat_minor": 2
}
